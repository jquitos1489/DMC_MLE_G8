{
 "cells": [
  {
   "cell_type": "code",
   "execution_count": null,
   "id": "618fd223",
   "metadata": {},
   "outputs": [],
   "source": [
    "#Instalacion de Pypcaret\n",
    "# pip install Pypcaret\n",
    "##Pipeline de pycaret:\n",
    "\n",
    "#1. Setup(): Definir el dataset y parámetros\n",
    "#2. Compare_models(): Comparar multiples modelos y los rankear\n",
    "#3. Create model(): Crear un modelo específico\n",
    "#4. Tune_model(): Ajuste automático de hiperparámetros\n",
    "#5. plot_model(): visualizar el desempeño del modelo\n",
    "#6. Evaluate_model(): Evaluación del modelo\n",
    "#7. Predict_model(): Predicciones sobre nuevos datos en el DF\n",
    "#8. Save_model/load_model(): Guardar y cargar el modelo\n"
   ]
  }
 ],
 "metadata": {
  "language_info": {
   "name": "python"
  }
 },
 "nbformat": 4,
 "nbformat_minor": 5
}
